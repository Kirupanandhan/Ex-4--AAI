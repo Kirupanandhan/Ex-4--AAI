{
  "nbformat": 4,
  "nbformat_minor": 0,
  "metadata": {
    "colab": {
      "provenance": []
    },
    "kernelspec": {
      "name": "python3",
      "display_name": "Python 3"
    },
    "language_info": {
      "name": "python"
    }
  },
  "cells": [
    {
      "cell_type": "code",
      "execution_count": 1,
      "metadata": {
        "id": "gKqWRUlxtAlY"
      },
      "outputs": [],
      "source": [
        "import numpy as np\n"
      ]
    },
    {
      "cell_type": "code",
      "source": [
        "t_m = np.array([[0.7,0.3],\n",
        "                [0.4, 0.6]])\n",
        "e_m = np.array([[0.1,0.9],\n",
        "                [0.8,0.2]])\n",
        "i_p = np.array([0.5,0.5])\n",
        "\n",
        "o_s = np.array([1,1,1,0,0,1])"
      ],
      "metadata": {
        "id": "EsjzIGwLtCes"
      },
      "execution_count": 2,
      "outputs": []
    },
    {
      "cell_type": "code",
      "source": [
        "alpha = np.zeros((len(o_s),len(i_p)))\n"
      ],
      "metadata": {
        "id": "X9zXlgoutFd8"
      },
      "execution_count": 3,
      "outputs": []
    },
    {
      "cell_type": "code",
      "source": [
        "alpha[0, :] = i_p * e_m[:, o_s[0]]\n",
        "\n",
        "for t in range(1, len(o_s)):\n",
        "\n",
        "  for j in range(len(i_p)):\n",
        "\n",
        "    alpha[t, j ] = e_m[j,o_s[t]] * np.sum(alpha[t-1, :] * t_m[:, j ])"
      ],
      "metadata": {
        "id": "Eg2a675YtMvk"
      },
      "execution_count": 4,
      "outputs": []
    },
    {
      "cell_type": "code",
      "source": [
        "prob = np.sum(alpha[-1, :])"
      ],
      "metadata": {
        "id": "0GaMgPb1tm4H"
      },
      "execution_count": 5,
      "outputs": []
    },
    {
      "cell_type": "code",
      "source": [
        "print(\"The Probability of the observed sequence is :\",prob)"
      ],
      "metadata": {
        "colab": {
          "base_uri": "https://localhost:8080/"
        },
        "id": "ipRy0H-HtsEn",
        "outputId": "39b14402-4be3-44d7-ae53-f46459b3bb47"
      },
      "execution_count": 6,
      "outputs": [
        {
          "output_type": "stream",
          "name": "stdout",
          "text": [
            "The Probability of the observed sequence is : 0.018906881625\n"
          ]
        }
      ]
    },
    {
      "cell_type": "code",
      "source": [
        "m_l_s = []\n",
        "for t in range(len(o_s)):\n",
        "  if alpha[t, 0] > alpha[t,1]:\n",
        "    m_l_s.append(\"sunny\")\n",
        "  else:\n",
        "    m_l_s.append(\"rainy\")"
      ],
      "metadata": {
        "id": "NDvghla7tuAa"
      },
      "execution_count": 7,
      "outputs": []
    },
    {
      "cell_type": "code",
      "source": [
        "print(\"Thye most likely sequence of weather states is :\",m_l_s)"
      ],
      "metadata": {
        "colab": {
          "base_uri": "https://localhost:8080/"
        },
        "id": "M7LmGDz4twyg",
        "outputId": "d747d7ce-757b-4302-a979-2b483c7546f3"
      },
      "execution_count": 8,
      "outputs": [
        {
          "output_type": "stream",
          "name": "stdout",
          "text": [
            "Thye most likely sequence of weather states is : ['sunny', 'sunny', 'sunny', 'rainy', 'rainy', 'sunny']\n"
          ]
        }
      ]
    },
    {
      "cell_type": "code",
      "source": [],
      "metadata": {
        "id": "jlbIrVO5ty8e"
      },
      "execution_count": null,
      "outputs": []
    }
  ]
}